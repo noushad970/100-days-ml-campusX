{
 "cells": [
  {
   "cell_type": "markdown",
   "id": "d6025a60-8af1-4579-94aa-544480e9df00",
   "metadata": {},
   "source": [
    "# 1.import dataset"
   ]
  },
  {
   "cell_type": "markdown",
   "id": "5d07c571-885a-49b7-bfe8-072da5877b06",
   "metadata": {},
   "source": [
    "<h1>Hello everyone</h1>"
   ]
  },
  {
   "cell_type": "code",
   "execution_count": null,
   "id": "9044b035-14e1-43f8-bd15-c8ea330cf6c3",
   "metadata": {},
   "outputs": [],
   "source": []
  }
 ],
 "metadata": {
  "kernelspec": {
   "display_name": "Python 3 (ipykernel)",
   "language": "python",
   "name": "python3"
  },
  "language_info": {
   "codemirror_mode": {
    "name": "ipython",
    "version": 3
   },
   "file_extension": ".py",
   "mimetype": "text/x-python",
   "name": "python",
   "nbconvert_exporter": "python",
   "pygments_lexer": "ipython3",
   "version": "3.13.5"
  }
 },
 "nbformat": 4,
 "nbformat_minor": 5
}
